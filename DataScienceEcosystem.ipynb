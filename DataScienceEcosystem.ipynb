{
 "cells": [
  {
   "cell_type": "markdown",
   "id": "274a97d9-36aa-47cc-9a8a-d38849cd72ba",
   "metadata": {},
   "source": [
    "# Data Science Tools and Ecosystem"
   ]
  },
  {
   "cell_type": "markdown",
   "id": "9dfa00eb-d7d6-436a-96a1-7e031df9a668",
   "metadata": {},
   "source": [
    "In this notebook, Data Science Tools and Ecosystem are summarized."
   ]
  },
  {
   "cell_type": "markdown",
   "id": "812aaacb-8468-4f75-847d-0cc1841d9c97",
   "metadata": {},
   "source": [
    "Some of the popular languages that Data Scientists use are:\n",
    "\n",
    "1. Python\n",
    "2. R\n",
    "3. Scala\n",
    "4. Julia"
   ]
  },
  {
   "cell_type": "markdown",
   "id": "2640706c-97df-454b-8520-9d4fe045a401",
   "metadata": {},
   "source": [
    "Some of the commonly used libraries used by Data Scientists include:\n",
    "1. Numpy\n",
    "2. Pandas\n",
    "3. Matplotlib\n",
    "4. ggplot"
   ]
  },
  {
   "cell_type": "markdown",
   "id": "0f0f8553-9dbb-464e-9d23-7034982b3c02",
   "metadata": {
    "tags": []
   },
   "source": [
    "| Data Science Tools |\n",
    "| ---------------- |\n",
    "| Rstudio |\n",
    "| JupyterNoteBook |\n",
    "| Jupyterlite |"
   ]
  },
  {
   "cell_type": "markdown",
   "id": "442e4853-2f50-4f0c-be3b-d3158584ae2a",
   "metadata": {
    "tags": []
   },
   "source": [
    "### Below are a few examples of evaluating arithmetic expressions in Python"
   ]
  },
  {
   "cell_type": "code",
   "execution_count": 3,
   "id": "af57f003-d764-4296-a8e4-b321a72c0845",
   "metadata": {
    "tags": []
   },
   "outputs": [
    {
     "data": {
      "text/plain": [
       "17"
      ]
     },
     "execution_count": 3,
     "metadata": {},
     "output_type": "execute_result"
    }
   ],
   "source": [
    "#This a simple arithmetic expression to mutiply then add integers\n",
    "\n",
    "(3*4)+5"
   ]
  },
  {
   "cell_type": "code",
   "execution_count": 4,
   "id": "60adf88d-0d9e-49d4-9f61-c06655db3257",
   "metadata": {
    "tags": []
   },
   "outputs": [
    {
     "data": {
      "text/plain": [
       "3.3333333333333335"
      ]
     },
     "execution_count": 4,
     "metadata": {},
     "output_type": "execute_result"
    }
   ],
   "source": [
    "#This will convert 200 minutes to hours by diving by 60\n",
    "\n",
    "200/60"
   ]
  },
  {
   "cell_type": "markdown",
   "id": "c7e36a77-8ee4-44cf-9a66-2617cdd0fb86",
   "metadata": {},
   "source": [
    "**Objectives:**\n",
    "\n",
    "We Have covered\n",
    "\n",
    "- popular data science languages\n",
    "- popular data science libraries\n",
    "- data science tools\n",
    "- and evaluated arithematic expressions"
   ]
  },
  {
   "cell_type": "markdown",
   "id": "53d8550a-4f50-4b11-8f3a-d578db4f4db4",
   "metadata": {},
   "source": [
    "## Author\n",
    "SAJIN M S"
   ]
  },
  {
   "cell_type": "code",
   "execution_count": null,
   "id": "0b77277d-3e23-4a3e-ab54-e1dcf5e939b8",
   "metadata": {},
   "outputs": [],
   "source": []
  }
 ],
 "metadata": {
  "kernelspec": {
   "display_name": "Python",
   "language": "python",
   "name": "conda-env-python-py"
  },
  "language_info": {
   "codemirror_mode": {
    "name": "ipython",
    "version": 3
   },
   "file_extension": ".py",
   "mimetype": "text/x-python",
   "name": "python",
   "nbconvert_exporter": "python",
   "pygments_lexer": "ipython3",
   "version": "3.7.12"
  }
 },
 "nbformat": 4,
 "nbformat_minor": 5
}
